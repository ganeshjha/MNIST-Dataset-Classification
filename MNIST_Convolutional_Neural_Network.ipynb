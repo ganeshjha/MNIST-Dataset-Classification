{
 "cells": [

  {
   "cell_type": "markdown",
   "metadata": {},
   "source": [
    "## Introduction\n",
    "\n",
    "The previous tutorial showed that a simple linear model had about 91% classification accuracy for recognizing hand-written digits in the MNIST data-set.\n",
    "\n",
    "In this tutorial we will implement a simple Convolutional Neural Network in TensorFlow which has a classification accuracy of about 99%, or more if you make some of the suggested exercises.\n",
    "\n",
    "Convolutional Networks work by moving small filters across the input image. This means the filters are re-used for recognizing patterns throughout the entire input image. This makes the Convolutional Networks much more powerful than Fully-Connected networks with the same number of variables. This in turn makes the Convolutional Networks faster to train.\n",
    "\n",
    "You should be familiar with basic linear algebra, Python and the Jupyter Notebook editor. Beginners to TensorFlow may also want to study the first tutorial before proceeding to this one."
   ]
  },
  {
   "cell_type": "markdown",
   "metadata": {},
   "source": [
    "## Flowchart"
   ]
  },
  {
   "cell_type": "markdown",
   "metadata": {},
   "source": [
    "The following chart shows roughly how the data flows in the Convolutional Neural Network that is implemented below.\n",
    "\n",
    "![Flowchart](images/02_network_flowchart.png)"
   ]
  },
  {
   "cell_type": "markdown",
   "metadata": {},
   "source": [
    "The input image is processed in the first convolutional layer using the filter-weights. This results in 16 new images, one for each filter in the convolutional layer. The images are also down-sampled so the image resolution is decreased from 28x28 to 14x14.\n",
    "\n",
    "These 16 smaller images are then processed in the second convolutional layer. We need filter-weights for each of these 16 channels, and we need filter-weights for each output channel of this layer. There are 36 output channels so there are a total of 16 x 36 = 576 filters in the second convolutional layer. The resulting images are down-sampled again to 7x7 pixels.\n",
    "\n",
    "The output of the second convolutional layer is 36 images of 7x7 pixels each. These are then flattened to a single vector of length 7 x 7 x 36 = 1764, which is used as the input to a fully-connected layer with 128 neurons (or elements). This feeds into another fully-connected layer with 10 neurons, one for each of the classes, which is used to determine the class of the image, that is, which number is depicted in the image.\n",
    "\n",
    "The convolutional filters are initially chosen at random, so the classification is done randomly. The error between the predicted and true class of the input image is measured as the so-called cross-entropy. The optimizer then automatically propagates this error back through the Convolutional Network using the chain-rule of differentiation and updates the filter-weights so as to improve the classification error. This is done iteratively thousands of times until the classification error is sufficiently low.\n",
    "\n",
    "These particular filter-weights and intermediate images are the results of one optimization run and may look different if you re-run this Notebook.\n",
    "\n",
    "Note that the computation in TensorFlow is actually done on a batch of images instead of a single image, which makes the computation more efficient. This means the flowchart actually has one more data-dimension when implemented in TensorFlow."
   ]
  },
  {
   "cell_type": "markdown",
   "metadata": {},
   "source": [
    "## Convolutional Layer"
   ]
  },
  {
   "cell_type": "markdown",
   "metadata": {},
   "source": [
    "The following chart shows the basic idea of processing an image in the first convolutional layer. The input image depicts the number 7 and four copies of the image are shown here, so we can see more clearly how the filter is being moved to different positions of the image. For each position of the filter, the dot-product is being calculated between the filter and the image pixels under the filter, which results in a single pixel in the output image. So moving the filter across the entire input image results in a new image being generated.\n",
    "\n",
    "The red filter-weights means that the filter has a positive reaction to black pixels in the input image, while blue pixels means the filter has a negative reaction to black pixels.\n",
    "\n",
    "In this case it appears that the filter recognizes the horizontal line of the 7-digit, as can be seen from its stronger reaction to that line in the output image.\n",
    "\n",
    "![Convolution example](images/02_convolution.png)"
   ]
  },
  {
   "cell_type": "markdown",
   "metadata": {},
   "source": [
    "The step-size for moving the filter across the input is called the stride. There is a stride for moving the filter horizontally (x-axis) and another stride for moving vertically (y-axis).\n",
    "\n",
    "In the source-code below, the stride is set to 1 in both directions, which means the filter starts in the upper left corner of the input image and is being moved 1 pixel to the right in each step. When the filter reaches the end of the image to the right, then the filter is moved back to the left side and 1 pixel down the image. This continues until the filter has reached the lower right corner of the input image and the entire output image has been generated.\n",
    "\n",
    "When the filter reaches the end of the right-side as well as the bottom of the input image, then it can be padded with zeroes (white pixels). This causes the output image to be of the exact same dimension as the input image.\n",
    "\n",
    "Furthermore, the output of the convolution may be passed through a so-called Rectified Linear Unit (ReLU), which merely ensures that the output is positive because negative values are set to zero. The output may also be down-sampled by so-called max-pooling, which considers small windows of 2x2 pixels and only keeps the largest of those pixels. This halves the resolution of the input image e.g. from 28x28 to 14x14 pixels.\n",
    "\n",
    "Note that the second convolutional layer is more complicated because it takes 16 input channels. We want a separate filter for each input channel, so we need 16 filters instead of just one. Furthermore, we want 36 output channels from the second convolutional layer, so in total we need 16 x 36 = 576 filters for the second convolutional layer. It can be a bit challenging to understand how this works."
   ]
  },
  {
   "cell_type": "markdown",
   "metadata": {},
   "source": [
    "## Imports"
   ]
  },
  {
   "cell_type": "code",
   "execution_count": 1,
   "metadata": {},
   "outputs": [],
   "source": [
    "%matplotlib inline\n",
    "import matplotlib.pyplot as plt\n",
    "import tensorflow as tf\n",
    "import numpy as np\n",
    "from sklearn.metrics import confusion_matrix\n",
    "import time\n",
    "from datetime import timedelta\n",
    "import math"
   ]
  },
  {
   "cell_type": "markdown",
   "metadata": {},
   "source": [
    "This was developed using Python 3.6.1 (Anaconda) and TensorFlow version:"
   ]
  },
  {
   "cell_type": "code",
   "execution_count": 2,
   "metadata": {},
   "outputs": [
    {
     "data": {
      "text/plain": [
       "'1.2.1'"
      ]
     },
     "execution_count": 2,
     "metadata": {},
     "output_type": "execute_result"
    }
   ],
   "source": [
    "tf.__version__"
   ]
  },
  {
   "cell_type": "markdown",
   "metadata": {},
   "source": [
    "## Configuration of Neural Network\n",
    "\n",
    "The configuration of the Convolutional Neural Network is defined here for convenience, so you can easily find and change these numbers and re-run the Notebook."
   ]
  },
  {
   "cell_type": "code",
   "execution_count": 3,
   "metadata": {
    "collapsed": true
   },
   "outputs": [],
   "source": [
    "# Convolutional Layer 1.\n",
    "filter_size1 = 5          # Convolution filters are 5 x 5 pixels.\n",
    "num_filters1 = 16         # There are 16 of these filters.\n",
    "\n",
    "# Convolutional Layer 2.\n",
    "filter_size2 = 5          # Convolution filters are 5 x 5 pixels.\n",
    "num_filters2 = 36         # There are 36 of these filters.\n",
    "\n",
    "# Fully-connected layer.\n",
    "fc_size = 128             # Number of neurons in fully-connected layer."
   ]
  },
  {
   "cell_type": "markdown",
   "metadata": {},
   "source": [
    "## Load Data"
   ]
  },
  {
   "cell_type": "markdown",
   "metadata": {},
   "source": [
    "The MNIST data-set is about 12 MB and will be downloaded automatically if it is not located in the given path."
   ]
  },
  {
   "cell_type": "code",
   "execution_count": 4,
   "metadata": {},
   "outputs": [
    {
     "name": "stdout",
     "output_type": "stream",
     "text": [
      "Extracting data/MNIST/train-images-idx3-ubyte.gz\n",
      "Extracting data/MNIST/train-labels-idx1-ubyte.gz\n",
      "Extracting data/MNIST/t10k-images-idx3-ubyte.gz\n",
      "Extracting data/MNIST/t10k-labels-idx1-ubyte.gz\n"
     ]
    }
   ],
   "source": [
    "from tensorflow.examples.tutorials.mnist import input_data\n",
    "data = input_data.read_data_sets('data/MNIST/', one_hot=True)\n"
   ]
  },
  {
   "cell_type": "markdown",
   "metadata": {},
   "source": [
    "The MNIST data-set has now been loaded and consists of 70,000 images and associated labels (i.e. classifications of the images). The data-set is split into 3 mutually exclusive sub-sets. We will only use the training and test-sets in this tutorial."
   ]
  },
  {
   "cell_type": "code",
   "execution_count": 5,
   "metadata": {},
   "outputs": [
    {
     "name": "stdout",
     "output_type": "stream",
     "text": [
      "Size of:\n",
      "- Training-set:\t\t55000\n",
      "- Test-set:\t\t10000\n",
      "- Validation-set:\t5000\n"
     ]
    }
   ],
   "source": [
    "print(\"Size of:\")\n",
    "print(\"- Training-set:\\t\\t{}\".format(len(data.train.labels)))\n",
    "print(\"- Test-set:\\t\\t{}\".format(len(data.test.labels)))\n",
    "print(\"- Validation-set:\\t{}\".format(len(data.validation.labels)))"
   ]
  },
  {
   "cell_type": "markdown",
   "metadata": {},
   "source": [
    "The class-labels are One-Hot encoded, which means that each label is a vector with 10 elements, all of which are zero except for one element. The index of this one element is the class-number, that is, the digit shown in the associated image. We also need the class-numbers as integers for the test-set, so we calculate it now."
   ]
  },
  {
   "cell_type": "code",
   "execution_count": 6,
   "metadata": {
    "collapsed": true
   },
   "outputs": [],
   "source": [
    "data.test.cls = np.argmax(data.test.labels, axis=1)"
   ]
  },
  {
   "cell_type": "markdown",
   "metadata": {},
   "source": [
    "## Data Dimensions"
   ]
  },
  {
   "cell_type": "markdown",
   "metadata": {},
   "source": [
    "The data dimensions are used in several places in the source-code below. They are defined once so we can use these variables instead of numbers throughout the source-code below."
   ]
  },
  {
   "cell_type": "code",
   "execution_count": 7,
   "metadata": {
    "collapsed": true
   },
   "outputs": [],
   "source": [
    "# We know that MNIST images are 28 pixels in each dimension.\n",
    "img_size = 28\n",
    "\n",
    "# Images are stored in one-dimensional arrays of this length.\n",
    "img_size_flat = img_size * img_size\n",
    "\n",
    "# Tuple with height and width of images used to reshape arrays.\n",
    "img_shape = (img_size, img_size)\n",
    "\n",
    "# Number of colour channels for the images: 1 channel for gray-scale.\n",
    "num_channels = 1\n",
    "\n",
    "# Number of classes, one class for each of 10 digits.\n",
    "num_classes = 10"
   ]
  },
  {
   "cell_type": "markdown",
   "metadata": {},
   "source": [
    "### Helper-function for plotting images"
   ]
  },
  {
   "cell_type": "markdown",
   "metadata": {},
   "source": [
    "Function used to plot 9 images in a 3x3 grid, and writing the true and predicted classes below each image."
   ]
  },
  {
   "cell_type": "code",
   "execution_count": 8,
   "metadata": {
    "collapsed": true
   },
   "outputs": [],
   "source": [
    "def plot_images(images, cls_true, cls_pred=None):\n",
    "    assert len(images) == len(cls_true) == 9\n",
    "    \n",
    "    # Create figure with 3x3 sub-plots.\n",
    "    fig, axes = plt.subplots(3, 3)\n",
    "    fig.subplots_adjust(hspace=0.3, wspace=0.3)\n",
    "\n",
    "    for i, ax in enumerate(axes.flat):\n",
    "        # Plot image.\n",
    "        ax.imshow(images[i].reshape(img_shape), cmap='binary')\n",
    "\n",
    "        # Show true and predicted classes.\n",
    "        if cls_pred is None:\n",
    "            xlabel = \"True: {0}\".format(cls_true[i])\n",
    "        else:\n",
    "            xlabel = \"True: {0}, Pred: {1}\".format(cls_true[i], cls_pred[i])\n",
    "\n",
    "        # Show the classes as the label on the x-axis.\n",
    "        ax.set_xlabel(xlabel)\n",
    "        \n",
    "        # Remove ticks from the plot.\n",
    "        ax.set_xticks([])\n",
    "        ax.set_yticks([])\n",
    "    \n",
    "    # Ensure the plot is shown correctly with multiple plots\n",
    "    # in a single Notebook cell.\n",
    "    plt.show()"
   ]
  },
  {
   "cell_type": "markdown",
   "metadata": {},
   "source": [
    "### Plot a few images to see if data is correct"
   ]
  },
  {
   "cell_type": "code",
   "execution_count": 9,
   "metadata": {},
   "outputs": [
    {
     "data": {
      "image/png": "iVBORw0KGgoAAAANSUhEUgAAAUMAAAD5CAYAAAC9FVegAAAABHNCSVQICAgIfAhkiAAAAAlwSFlz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\nEMZccjkjBQkAAAAASUVORK5CYII=\n",
      "text/plain": [
       "<matplotlib.figure.Figure at 0x24b863ed4e0>"
      ]
     },
     "metadata": {},
     "output_type": "display_data"
    }
   ],
   "source": [
    "# Get the first images from the test-set.\n",
    "images = data.test.images[0:9]\n",
    "\n",
    "# Get the true classes for those images.\n",
    "cls_true = data.test.cls[0:9]\n",
    "\n",
    "# Plot the images and labels using our helper-function above.\n",
    "plot_images(images=images, cls_true=cls_true)"
   ]
  },
  {
   "cell_type": "markdown",
   "metadata": {},
   "source": [
    "## TensorFlow Graph\n",
    "\n",
    "The entire purpose of TensorFlow is to have a so-called computational graph that can be executed much more efficiently than if the same calculations were to be performed directly in Python. TensorFlow can be more efficient than NumPy because TensorFlow knows the entire computation graph that must be executed, while NumPy only knows the computation of a single mathematical operation at a time.\n",
    "\n",
    "TensorFlow can also automatically calculate the gradients that are needed to optimize the variables of the graph so as to make the model perform better. This is because the graph is a combination of simple mathematical expressions so the gradient of the entire graph can be calculated using the chain-rule for derivatives.\n",
    "\n",
    "TensorFlow can also take advantage of multi-core CPUs as well as GPUs - and Google has even built special chips just for TensorFlow which are called TPUs (Tensor Processing Units) and are even faster than GPUs.\n",
    "\n",
    "A TensorFlow graph consists of the following parts which will be detailed below:\n",
    "\n",
    "* Placeholder variables used for inputting data to the graph.\n",
    "* Variables that are going to be optimized so as to make the convolutional network perform better.\n",
    "* The mathematical formulas for the convolutional network.\n",
    "* A cost measure that can be used to guide the optimization of the variables.\n",
    "* An optimization method which updates the variables.\n",
    "\n",
    "In addition, the TensorFlow graph may also contain various debugging statements e.g. for logging data to be displayed using TensorBoard, which is not covered in this tutorial."
   ]
  },
  {
   "cell_type": "markdown",
   "metadata": {},
   "source": [
    "### Helper-functions for creating new variables"
   ]
  },
  {
   "cell_type": "markdown",
   "metadata": {},
   "source": [
    "Functions for creating new TensorFlow variables in the given shape and initializing them with random values. Note that the initialization is not actually done at this point, it is merely being defined in the TensorFlow graph."
   ]
  },
  {
   "cell_type": "code",
   "execution_count": 10,
   "metadata": {
    "collapsed": true
   },
   "outputs": [],
   "source": [
    "def new_weights(shape):\n",
    "    return tf.Variable(tf.truncated_normal(shape, stddev=0.05))"
   ]
  },
  {
   "cell_type": "code",
   "execution_count": 11,
   "metadata": {
    "collapsed": true
   },
   "outputs": [],
   "source": [
    "def new_biases(length):\n",
    "    return tf.Variable(tf.constant(0.05, shape=[length]))"
   ]
  },
  {
   "cell_type": "markdown",
   "metadata": {},
   "source": [
    "### Helper-function for creating a new Convolutional Layer"
   ]
  },
  {
   "cell_type": "markdown",
   "metadata": {},
   "source": [
    "This function creates a new convolutional layer in the computational graph for TensorFlow. Nothing is actually calculated here, we are just adding the mathematical formulas to the TensorFlow graph.\n",
    "\n",
    "It is assumed that the input is a 4-dim tensor with the following dimensions:\n",
    "\n",
    "1. Image number.\n",
    "2. Y-axis of each image.\n",
    "3. X-axis of each image.\n",
    "4. Channels of each image.\n",
    "\n",
    "Note that the input channels may either be colour-channels, or it may be filter-channels if the input is produced from a previous convolutional layer.\n",
    "\n",
    "The output is another 4-dim tensor with the following dimensions:\n",
    "\n",
    "1. Image number, same as input.\n",
    "2. Y-axis of each image. If 2x2 pooling is used, then the height and width of the input images is divided by 2.\n",
    "3. X-axis of each image. Ditto.\n",
    "4. Channels produced by the convolutional filters."
   ]
  },
  {
   "cell_type": "code",
   "execution_count": 12,
   "metadata": {
    "collapsed": true
   },
   "outputs": [],
   "source": [
    "def new_conv_layer(input,              # The previous layer.\n",
    "                   num_input_channels, # Num. channels in prev. layer.\n",
    "                   filter_size,        # Width and height of each filter.\n",
    "                   num_filters,        # Number of filters.\n",
    "                   use_pooling=True):  # Use 2x2 max-pooling.\n",
    "\n",
    "    # Shape of the filter-weights for the convolution.\n",
    "    # This format is determined by the TensorFlow API.\n",
    "    shape = [filter_size, filter_size, num_input_channels, num_filters]\n",
    "\n",
    "    # Create new weights aka. filters with the given shape.\n",
    "    weights = new_weights(shape=shape)\n",
    "\n",
    "    # Create new biases, one for each filter.\n",
    "    biases = new_biases(length=num_filters)\n",
    "\n",
    "    # Create the TensorFlow operation for convolution.\n",
    "    # Note the strides are set to 1 in all dimensions.\n",
    "    # The first and last stride must always be 1,\n",
    "    # because the first is for the image-number and\n",
    "    # the last is for the input-channel.\n",
    "    # But e.g. strides=[1, 2, 2, 1] would mean that the filter\n",
    "    # is moved 2 pixels across the x- and y-axis of the image.\n",
    "    # The padding is set to 'SAME' which means the input image\n",
    "    # is padded with zeroes so the size of the output is the same.\n",
    "    layer = tf.nn.conv2d(input=input,\n",
    "                         filter=weights,\n",
    "                         strides=[1, 1, 1, 1],\n",
    "                         padding='SAME')\n",
    "\n",
    "    # Add the biases to the results of the convolution.\n",
    "    # A bias-value is added to each filter-channel.\n",
    "    layer += biases\n",
    "\n",
    "    # Use pooling to down-sample the image resolution?\n",
    "    if use_pooling:\n",
    "        # This is 2x2 max-pooling, which means that we\n",
    "        # consider 2x2 windows and select the largest value\n",
    "        # in each window. Then we move 2 pixels to the next window.\n",
    "        layer = tf.nn.max_pool(value=layer,\n",
    "                               ksize=[1, 2, 2, 1],\n",
    "                               strides=[1, 2, 2, 1],\n",
    "                               padding='SAME')\n",
    "\n",
    "    # Rectified Linear Unit (ReLU).\n",
    "    # It calculates max(x, 0) for each input pixel x.\n",
    "    # This adds some non-linearity to the formula and allows us\n",
    "    # to learn more complicated functions.\n",
    "    layer = tf.nn.relu(layer)\n",
    "\n",
    "    # Note that ReLU is normally executed before the pooling,\n",
    "    # but since relu(max_pool(x)) == max_pool(relu(x)) we can\n",
    "    # save 75% of the relu-operations by max-pooling first.\n",
    "\n",
    "    # We return both the resulting layer and the filter-weights\n",
    "    # because we will plot the weights later.\n",
    "    return layer, weights"
   ]
  },
  {
   "cell_type": "markdown",
   "metadata": {},
   "source": [
    "### Helper-function for flattening a layer\n",
    "\n",
    "A convolutional layer produces an output tensor with 4 dimensions. We will add fully-connected layers after the convolution layers, so we need to reduce the 4-dim tensor to 2-dim which can be used as input to the fully-connected layer."
   ]
  },
  {
   "cell_type": "code",
   "execution_count": 13,
   "metadata": {
    "collapsed": true
   },
   "outputs": [],
   "source": [
    "def flatten_layer(layer):\n",
    "    # Get the shape of the input layer.\n",
    "    layer_shape = layer.get_shape()\n",
    "\n",
    "    # The shape of the input layer is assumed to be:\n",
    "    # layer_shape == [num_images, img_height, img_width, num_channels]\n",
    "\n",
    "    # The number of features is: img_height * img_width * num_channels\n",
    "    # We can use a function from TensorFlow to calculate this.\n",
    "    num_features = layer_shape[1:4].num_elements()\n",
    "    \n",
    "    # Reshape the layer to [num_images, num_features].\n",
    "    # Note that we just set the size of the second dimension\n",
    "    # to num_features and the size of the first dimension to -1\n",
    "    # which means the size in that dimension is calculated\n",
    "    # so the total size of the tensor is unchanged from the reshaping.\n",
    "    layer_flat = tf.reshape(layer, [-1, num_features])\n",
    "\n",
    "    # The shape of the flattened layer is now:\n",
    "    # [num_images, img_height * img_width * num_channels]\n",
    "\n",
    "    # Return both the flattened layer and the number of features.\n",
    "    return layer_flat, num_features"
   ]
  },
  {
   "cell_type": "markdown",
   "metadata": {},
   "source": [
    "### Helper-function for creating a new Fully-Connected Layer"
   ]
  },
  {
   "cell_type": "markdown",
   "metadata": {},
   "source": [
    "This function creates a new fully-connected layer in the computational graph for TensorFlow. Nothing is actually calculated here, we are just adding the mathematical formulas to the TensorFlow graph.\n",
    "\n",
    "It is assumed that the input is a 2-dim tensor of shape `[num_images, num_inputs]`. The output is a 2-dim tensor of shape `[num_images, num_outputs]`."
   ]
  },
  {
   "cell_type": "code",
   "execution_count": 14,
   "metadata": {
    "collapsed": true
   },
   "outputs": [],
   "source": [
    "def new_fc_layer(input,          # The previous layer.\n",
    "                 num_inputs,     # Num. inputs from prev. layer.\n",
    "                 num_outputs,    # Num. outputs.\n",
    "                 use_relu=True): # Use Rectified Linear Unit (ReLU)?\n",
    "\n",
    "    # Create new weights and biases.\n",
    "    weights = new_weights(shape=[num_inputs, num_outputs])\n",
    "    biases = new_biases(length=num_outputs)\n",
    "\n",
    "    # Calculate the layer as the matrix multiplication of\n",
    "    # the input and weights, and then add the bias-values.\n",
    "    layer = tf.matmul(input, weights) + biases\n",
    "\n",
    "    # Use ReLU?\n",
    "    if use_relu:\n",
    "        layer = tf.nn.relu(layer)\n",
    "\n",
    "    return layer"
   ]
  },
  {
   "cell_type": "markdown",
   "metadata": {},
   "source": [
    "### Placeholder variables"
   ]
  },
  {
   "cell_type": "markdown",
   "metadata": {},
   "source": [
    "Placeholder variables serve as the input to the TensorFlow computational graph that we may change each time we execute the graph. We call this feeding the placeholder variables and it is demonstrated further below.\n",
    "\n",
    "First we define the placeholder variable for the input images. This allows us to change the images that are input to the TensorFlow graph. This is a so-called tensor, which just means that it is a multi-dimensional vector or matrix. The data-type is set to `float32` and the shape is set to `[None, img_size_flat]`, where `None` means that the tensor may hold an arbitrary number of images with each image being a vector of length `img_size_flat`."
   ]
  },
  {
   "cell_type": "code",
   "execution_count": 15,
   "metadata": {
    "collapsed": true
   },
   "outputs": [],
   "source": [
    "x = tf.placeholder(tf.float32, shape=[None, img_size_flat], name='x')"
   ]
  },
  {
   "cell_type": "markdown",
   "metadata": {},
   "source": [
    "The convolutional layers expect `x` to be encoded as a 4-dim tensor so we have to reshape it so its shape is instead `[num_images, img_height, img_width, num_channels]`. Note that `img_height == img_width == img_size` and `num_images` can be inferred automatically by using -1 for the size of the first dimension. So the reshape operation is:"
   ]
  },
  {
   "cell_type": "code",
   "execution_count": 16,
   "metadata": {
    "collapsed": true
   },
   "outputs": [],
   "source": [
    "x_image = tf.reshape(x, [-1, img_size, img_size, num_channels])"
   ]
  },
  {
   "cell_type": "markdown",
   "metadata": {},
   "source": [
    "Next we have the placeholder variable for the true labels associated with the images that were input in the placeholder variable `x`. The shape of this placeholder variable is `[None, num_classes]` which means it may hold an arbitrary number of labels and each label is a vector of length `num_classes` which is 10 in this case."
   ]
  },
  {
   "cell_type": "code",
   "execution_count": 17,
   "metadata": {
    "collapsed": true
   },
   "outputs": [],
   "source": [
    "y_true = tf.placeholder(tf.float32, shape=[None, num_classes], name='y_true')"
   ]
  },
  {
   "cell_type": "markdown",
   "metadata": {},
   "source": [
    "We could also have a placeholder variable for the class-number, but we will instead calculate it using argmax. Note that this is a TensorFlow operator so nothing is calculated at this point."
   ]
  },
  {
   "cell_type": "code",
   "execution_count": 18,
   "metadata": {
    "collapsed": true
   },
   "outputs": [],
   "source": [
    "y_true_cls = tf.argmax(y_true, axis=1)"
   ]
  },
  {
   "cell_type": "markdown",
   "metadata": {},
   "source": [
    "### Convolutional Layer 1\n",
    "\n",
    "Create the first convolutional layer. It takes `x_image` as input and creates `num_filters1` different filters, each having width and height equal to `filter_size1`. Finally we wish to down-sample the image so it is half the size by using 2x2 max-pooling."
   ]
  },
  {
   "cell_type": "code",
   "execution_count": 19,
   "metadata": {
    "collapsed": true
   },
   "outputs": [],
   "source": [
    "layer_conv1, weights_conv1 = \\\n",
    "    new_conv_layer(input=x_image,\n",
    "                   num_input_channels=num_channels,\n",
    "                   filter_size=filter_size1,\n",
    "                   num_filters=num_filters1,\n",
    "                   use_pooling=True)"
   ]
  },
  {
   "cell_type": "markdown",
   "metadata": {},
   "source": [
    "Check the shape of the tensor that will be output by the convolutional layer. It is (?, 14, 14, 16) which means that there is an arbitrary number of images (this is the ?), each image is 14 pixels wide and 14 pixels high, and there are 16 different channels, one channel for each of the filters."
   ]
  },
  {
   "cell_type": "code",
   "execution_count": 20,
   "metadata": {},
   "outputs": [
    {
     "data": {
      "text/plain": [
       "<tf.Tensor 'Relu:0' shape=(?, 14, 14, 16) dtype=float32>"
      ]
     },
     "execution_count": 20,
     "metadata": {},
     "output_type": "execute_result"
    }
   ],
   "source": [
    "layer_conv1"
   ]
  },
  {
   "cell_type": "markdown",
   "metadata": {},
   "source": [
    "### Convolutional Layer 2\n",
    "\n",
    "Create the second convolutional layer, which takes as input the output from the first convolutional layer. The number of input channels corresponds to the number of filters in the first convolutional layer."
   ]
  },
  {
   "cell_type": "code",
   "execution_count": 21,
   "metadata": {
    "collapsed": true
   },
   "outputs": [],
   "source": [
    "layer_conv2, weights_conv2 = \\\n",
    "    new_conv_layer(input=layer_conv1,\n",
    "                   num_input_channels=num_filters1,\n",
    "                   filter_size=filter_size2,\n",
    "                   num_filters=num_filters2,\n",
    "                   use_pooling=True)"
   ]
  },
  {
   "cell_type": "markdown",
   "metadata": {},
   "source": [
    "Check the shape of the tensor that will be output from this convolutional layer. The shape is (?, 7, 7, 36) where the ? again means that there is an arbitrary number of images, with each image having width and height of 7 pixels, and there are 36 channels, one for each filter."
   ]
  },
  {
   "cell_type": "code",
   "execution_count": 22,
   "metadata": {},
   "outputs": [
    {
     "data": {
      "text/plain": [
       "<tf.Tensor 'Relu_1:0' shape=(?, 7, 7, 36) dtype=float32>"
      ]
     },
     "execution_count": 22,
     "metadata": {},
     "output_type": "execute_result"
    }
   ],
   "source": [
    "layer_conv2"
   ]
  },
  {
   "cell_type": "markdown",
   "metadata": {},
   "source": [
    "### Flatten Layer\n",
    "\n",
    "The convolutional layers output 4-dim tensors. We now wish to use these as input in a fully-connected network, which requires for the tensors to be reshaped or flattened to 2-dim tensors."
   ]
  },
  {
   "cell_type": "code",
   "execution_count": 23,
   "metadata": {
    "collapsed": true
   },
   "outputs": [],
   "source": [
    "layer_flat, num_features = flatten_layer(layer_conv2)"
   ]
  },
  {
   "cell_type": "markdown",
   "metadata": {},
   "source": [
    "Check that the tensors now have shape (?, 1764) which means there's an arbitrary number of images which have been flattened to vectors of length 1764 each. Note that 1764 = 7 x 7 x 36."
   ]
  },
  {
   "cell_type": "code",
   "execution_count": 24,
   "metadata": {},
   "outputs": [
    {
     "data": {
      "text/plain": [
       "<tf.Tensor 'Reshape_1:0' shape=(?, 1764) dtype=float32>"
      ]
     },
     "execution_count": 24,
     "metadata": {},
     "output_type": "execute_result"
    }
   ],
   "source": [
    "layer_flat"
   ]
  },
  {
   "cell_type": "code",
   "execution_count": 25,
   "metadata": {},
   "outputs": [
    {
     "data": {
      "text/plain": [
       "1764"
      ]
     },
     "execution_count": 25,
     "metadata": {},
     "output_type": "execute_result"
    }
   ],
   "source": [
    "num_features"
   ]
  },
  {
   "cell_type": "markdown",
   "metadata": {},
   "source": [
    "### Fully-Connected Layer 1\n",
    "\n",
    "Add a fully-connected layer to the network. The input is the flattened layer from the previous convolution. The number of neurons or nodes in the fully-connected layer is `fc_size`. ReLU is used so we can learn non-linear relations."
   ]
  },
  {
   "cell_type": "code",
   "execution_count": 26,
   "metadata": {
    "collapsed": true
   },
   "outputs": [],
   "source": [
    "layer_fc1 = new_fc_layer(input=layer_flat,\n",
    "                         num_inputs=num_features,\n",
    "                         num_outputs=fc_size,\n",
    "                         use_relu=True)"
   ]
  },
  {
   "cell_type": "markdown",
   "metadata": {},
   "source": [
    "Check that the output of the fully-connected layer is a tensor with shape (?, 128) where the ? means there is an arbitrary number of images and `fc_size` == 128."
   ]
  },
  {
   "cell_type": "code",
   "execution_count": 27,
   "metadata": {},
   "outputs": [
    {
     "data": {
      "text/plain": [
       "<tf.Tensor 'Relu_2:0' shape=(?, 128) dtype=float32>"
      ]
     },
     "execution_count": 27,
     "metadata": {},
     "output_type": "execute_result"
    }
   ],
   "source": [
    "layer_fc1"
   ]
  },
  {
   "cell_type": "markdown",
   "metadata": {},
   "source": [
    "### Fully-Connected Layer 2\n",
    "\n",
    "Add another fully-connected layer that outputs vectors of length 10 for determining which of the 10 classes the input image belongs to. Note that ReLU is not used in this layer."
   ]
  },
  {
   "cell_type": "code",
   "execution_count": 28,
   "metadata": {
    "collapsed": true
   },
   "outputs": [],
   "source": [
    "layer_fc2 = new_fc_layer(input=layer_fc1,\n",
    "                         num_inputs=fc_size,\n",
    "                         num_outputs=num_classes,\n",
    "                         use_relu=False)"
   ]
  },
  {
   "cell_type": "code",
   "execution_count": 29,
   "metadata": {},
   "outputs": [
    {
     "data": {
      "text/plain": [
       "<tf.Tensor 'add_3:0' shape=(?, 10) dtype=float32>"
      ]
     },
     "execution_count": 29,
     "metadata": {},
     "output_type": "execute_result"
    }
   ],
   "source": [
    "layer_fc2"
   ]
  },
  {
   "cell_type": "markdown",
   "metadata": {},
   "source": [
    "### Predicted Class"
   ]
  },
  {
   "cell_type": "markdown",
   "metadata": {},
   "source": [
    "The second fully-connected layer estimates how likely it is that the input image belongs to each of the 10 classes. However, these estimates are a bit rough and difficult to interpret because the numbers may be very small or large, so we want to normalize them so that each element is limited between zero and one and the 10 elements sum to one. This is calculated using the so-called softmax function and the result is stored in `y_pred`."
   ]
  },
  {
   "cell_type": "code",
   "execution_count": 30,
   "metadata": {
    "collapsed": true
   },
   "outputs": [],
   "source": [
    "y_pred = tf.nn.softmax(layer_fc2)"
   ]
  },
  {
   "cell_type": "markdown",
   "metadata": {},
   "source": [
    "The class-number is the index of the largest element."
   ]
  },
  {
   "cell_type": "code",
   "execution_count": 31,
   "metadata": {
    "collapsed": true
   },
   "outputs": [],
   "source": [
    "y_pred_cls = tf.argmax(y_pred, axis=1)"
   ]
  },
  {
   "cell_type": "markdown",
   "metadata": {},
   "source": [
    "### Cost-function to be optimized"
   ]
  },
  {
   "cell_type": "markdown",
   "metadata": {},
   "source": [
    "To make the model better at classifying the input images, we must somehow change the variables for all the network layers. To do this we first need to know how well the model currently performs by comparing the predicted output of the model `y_pred` to the desired output `y_true`.\n",
    "\n",
    "The cross-entropy is a performance measure used in classification. The cross-entropy is a continuous function that is always positive and if the predicted output of the model exactly matches the desired output then the cross-entropy equals zero. The goal of optimization is therefore to minimize the cross-entropy so it gets as close to zero as possible by changing the variables of the network layers.\n",
    "\n",
    "TensorFlow has a built-in function for calculating the cross-entropy. Note that the function calculates the softmax internally so we must use the output of `layer_fc2` directly rather than `y_pred` which has already had the softmax applied."
   ]
  },
  {
   "cell_type": "code",
   "execution_count": 32,
   "metadata": {
    "collapsed": true
   },
   "outputs": [],
   "source": [
    "cross_entropy = tf.nn.softmax_cross_entropy_with_logits(logits=layer_fc2,\n",
    "                                                        labels=y_true)"
   ]
  },
  {
   "cell_type": "markdown",
   "metadata": {},
   "source": [
    "We have now calculated the cross-entropy for each of the image classifications so we have a measure of how well the model performs on each image individually. But in order to use the cross-entropy to guide the optimization of the model's variables we need a single scalar value, so we simply take the average of the cross-entropy for all the image classifications."
   ]
  },
  {
   "cell_type": "code",
   "execution_count": 33,
   "metadata": {
    "collapsed": true
   },
   "outputs": [],
   "source": [
    "cost = tf.reduce_mean(cross_entropy)"
   ]
  },
  {
   "cell_type": "markdown",
   "metadata": {},
   "source": [
    "### Optimization Method"
   ]
  },
  {
   "cell_type": "markdown",
   "metadata": {},
   "source": [
    "Now that we have a cost measure that must be minimized, we can then create an optimizer. In this case it is the `AdamOptimizer` which is an advanced form of Gradient Descent.\n",
    "\n",
    "Note that optimization is not performed at this point. In fact, nothing is calculated at all, we just add the optimizer-object to the TensorFlow graph for later execution."
   ]
  },
  {
   "cell_type": "code",
   "execution_count": 34,
   "metadata": {
    "collapsed": true
   },
   "outputs": [],
   "source": [
    "optimizer = tf.train.AdamOptimizer(learning_rate=1e-4).minimize(cost)"
   ]
  },
  {
   "cell_type": "markdown",
   "metadata": {},
   "source": [
    "### Performance Measures"
   ]
  },
  {
   "cell_type": "markdown",
   "metadata": {},
   "source": [
    "We need a few more performance measures to display the progress to the user.\n",
    "\n",
    "This is a vector of booleans whether the predicted class equals the true class of each image."
   ]
  },
  {
   "cell_type": "code",
   "execution_count": 35,
   "metadata": {
    "collapsed": true
   },
   "outputs": [],
   "source": [
    "correct_prediction = tf.equal(y_pred_cls, y_true_cls)"
   ]
  },
  {
   "cell_type": "markdown",
   "metadata": {},
   "source": [
    "This calculates the classification accuracy by first type-casting the vector of booleans to floats, so that False becomes 0 and True becomes 1, and then calculating the average of these numbers."
   ]
  },
  {
   "cell_type": "code",
   "execution_count": 36,
   "metadata": {
    "collapsed": true
   },
   "outputs": [],
   "source": [
    "accuracy = tf.reduce_mean(tf.cast(correct_prediction, tf.float32))"
   ]
  },
  {
   "cell_type": "markdown",
   "metadata": {},
   "source": [
    "## TensorFlow Run"
   ]
  },
  {
   "cell_type": "markdown",
   "metadata": {},
   "source": [
    "### Create TensorFlow session\n",
    "\n",
    "Once the TensorFlow graph has been created, we have to create a TensorFlow session which is used to execute the graph."
   ]
  },
  {
   "cell_type": "code",
   "execution_count": 37,
   "metadata": {
    "collapsed": true
   },
   "outputs": [],
   "source": [
    "session = tf.Session()"
   ]
  },
  {
   "cell_type": "markdown",
   "metadata": {},
   "source": [
    "### Initialize variables\n",
    "\n",
    "The variables for `weights` and `biases` must be initialized before we start optimizing them."
   ]
  },
  {
   "cell_type": "code",
   "execution_count": 38,
   "metadata": {
    "collapsed": true
   },
   "outputs": [],
   "source": [
    "session.run(tf.global_variables_initializer())"
   ]
  },
  {
   "cell_type": "markdown",
   "metadata": {},
   "source": [
    "### Helper-function to perform optimization iterations"
   ]
  },
  {
   "cell_type": "markdown",
   "metadata": {},
   "source": [
    "There are 55,000 images in the training-set. It takes a long time to calculate the gradient of the model using all these images. We therefore only use a small batch of images in each iteration of the optimizer.\n",
    "\n",
    "If your computer crashes or becomes very slow because you run out of RAM, then you may try and lower this number, but you may then need to perform more optimization iterations."
   ]
  },
  {
   "cell_type": "code",
   "execution_count": 39,
   "metadata": {
    "collapsed": true
   },
   "outputs": [],
   "source": [
    "train_batch_size = 64"
   ]
  },
  {
   "cell_type": "markdown",
   "metadata": {},
   "source": [
    "Function for performing a number of optimization iterations so as to gradually improve the variables of the network layers. In each iteration, a new batch of data is selected from the training-set and then TensorFlow executes the optimizer using those training samples.  The progress is printed every 100 iterations."
   ]
  },
  {
   "cell_type": "code",
   "execution_count": 40,
   "metadata": {
    "collapsed": true
   },
   "outputs": [],
   "source": [
    "# Counter for total number of iterations performed so far.\n",
    "total_iterations = 0\n",
    "\n",
    "def optimize(num_iterations):\n",
    "    # Ensure we update the global variable rather than a local copy.\n",
    "    global total_iterations\n",
    "\n",
    "    # Start-time used for printing time-usage below.\n",
    "    start_time = time.time()\n",
    "\n",
    "    for i in range(total_iterations,\n",
    "                   total_iterations + num_iterations):\n",
    "\n",
    "        # Get a batch of training examples.\n",
    "        # x_batch now holds a batch of images and\n",
    "        # y_true_batch are the true labels for those images.\n",
    "        x_batch, y_true_batch = data.train.next_batch(train_batch_size)\n",
    "\n",
    "        # Put the batch into a dict with the proper names\n",
    "        # for placeholder variables in the TensorFlow graph.\n",
    "        feed_dict_train = {x: x_batch,\n",
    "                           y_true: y_true_batch}\n",
    "\n",
    "        # Run the optimizer using this batch of training data.\n",
    "        # TensorFlow assigns the variables in feed_dict_train\n",
    "        # to the placeholder variables and then runs the optimizer.\n",
    "        session.run(optimizer, feed_dict=feed_dict_train)\n",
    "\n",
    "        # Print status every 100 iterations.\n",
    "        if i % 100 == 0:\n",
    "            # Calculate the accuracy on the training-set.\n",
    "            acc = session.run(accuracy, feed_dict=feed_dict_train)\n",
    "\n",
    "            # Message for printing.\n",
    "            msg = \"Optimization Iteration: {0:>6}, Training Accuracy: {1:>6.1%}\"\n",
    "\n",
    "            # Print it.\n",
    "            print(msg.format(i + 1, acc))\n",
    "\n",
    "    # Update the total number of iterations performed.\n",
    "    total_iterations += num_iterations\n",
    "\n",
    "    # Ending time.\n",
    "    end_time = time.time()\n",
    "\n",
    "    # Difference between start and end-times.\n",
    "    time_dif = end_time - start_time\n",
    "\n",
    "    # Print the time-usage.\n",
    "    print(\"Time usage: \" + str(timedelta(seconds=int(round(time_dif)))))"
   ]
  },
  {
   "cell_type": "markdown",
   "metadata": {},
   "source": [
    "### Helper-function to plot example errors"
   ]
  },
  {
   "cell_type": "markdown",
   "metadata": {},
   "source": [
    "Function for plotting examples of images from the test-set that have been mis-classified."
   ]
  },
  {
   "cell_type": "code",
   "execution_count": 41,
   "metadata": {
    "collapsed": true
   },
   "outputs": [],
   "source": [
    "def plot_example_errors(cls_pred, correct):\n",
    "    # This function is called from print_test_accuracy() below.\n",
    "\n",
    "    # cls_pred is an array of the predicted class-number for\n",
    "    # all images in the test-set.\n",
    "\n",
    "    # correct is a boolean array whether the predicted class\n",
    "    # is equal to the true class for each image in the test-set.\n",
    "\n",
    "    # Negate the boolean array.\n",
    "    incorrect = (correct == False)\n",
    "    \n",
    "    # Get the images from the test-set that have been\n",
    "    # incorrectly classified.\n",
    "    images = data.test.images[incorrect]\n",
    "    \n",
    "    # Get the predicted classes for those images.\n",
    "    cls_pred = cls_pred[incorrect]\n",
    "\n",
    "    # Get the true classes for those images.\n",
    "    cls_true = data.test.cls[incorrect]\n",
    "    \n",
    "    # Plot the first 9 images.\n",
    "    plot_images(images=images[0:9],\n",
    "                cls_true=cls_true[0:9],\n",
    "                cls_pred=cls_pred[0:9])"
   ]
  },
  {
   "cell_type": "markdown",
   "metadata": {},
   "source": [
    "### Helper-function to plot confusion matrix"
   ]
  },
  {
   "cell_type": "code",
   "execution_count": 42,
   "metadata": {
    "collapsed": true
   },
   "outputs": [],
   "source": [
    "def plot_confusion_matrix(cls_pred):\n",
    "    # This is called from print_test_accuracy() below.\n",
    "\n",
    "    # cls_pred is an array of the predicted class-number for\n",
    "    # all images in the test-set.\n",
    "\n",
    "    # Get the true classifications for the test-set.\n",
    "    cls_true = data.test.cls\n",
    "    \n",
    "    # Get the confusion matrix using sklearn.\n",
    "    cm = confusion_matrix(y_true=cls_true,\n",
    "                          y_pred=cls_pred)\n",
    "\n",
    "    # Print the confusion matrix as text.\n",
    "    print(cm)\n",
    "\n",
    "    # Plot the confusion matrix as an image.\n",
    "    plt.matshow(cm)\n",
    "\n",
    "    # Make various adjustments to the plot.\n",
    "    plt.colorbar()\n",
    "    tick_marks = np.arange(num_classes)\n",
    "    plt.xticks(tick_marks, range(num_classes))\n",
    "    plt.yticks(tick_marks, range(num_classes))\n",
    "    plt.xlabel('Predicted')\n",
    "    plt.ylabel('True')\n",
    "\n",
    "    # Ensure the plot is shown correctly with multiple plots\n",
    "    # in a single Notebook cell.\n",
    "    plt.show()"
   ]
  },
  {
   "cell_type": "markdown",
   "metadata": {},
   "source": [
    "### Helper-function for showing the performance"
   ]
  },
  {
   "cell_type": "markdown",
   "metadata": {},
   "source": [
    "Function for printing the classification accuracy on the test-set.\n",
    "\n",
    "It takes a while to compute the classification for all the images in the test-set, that's why the results are re-used by calling the above functions directly from this function, so the classifications don't have to be recalculated by each function.\n",
    "\n",
    "Note that this function can use a lot of computer memory, which is why the test-set is split into smaller batches. If you have little RAM in your computer and it crashes, then you can try and lower the batch-size."
   ]
  },
  {
   "cell_type": "code",
   "execution_count": 43,
   "metadata": {
    "collapsed": true
   },
   "outputs": [],
   "source": [
    "# Split the test-set into smaller batches of this size.\n",
    "test_batch_size = 256\n",
    "\n",
    "def print_test_accuracy(show_example_errors=False,\n",
    "                        show_confusion_matrix=False):\n",
    "\n",
    "    # Number of images in the test-set.\n",
    "    num_test = len(data.test.images)\n",
    "\n",
    "    # Allocate an array for the predicted classes which\n",
    "    # will be calculated in batches and filled into this array.\n",
    "    cls_pred = np.zeros(shape=num_test, dtype=np.int)\n",
    "\n",
    "    # Now calculate the predicted classes for the batches.\n",
    "    # We will just iterate through all the batches.\n",
    "    # There might be a more clever and Pythonic way of doing this.\n",
    "\n",
    "    # The starting index for the next batch is denoted i.\n",
    "    i = 0\n",
    "\n",
    "    while i < num_test:\n",
    "        # The ending index for the next batch is denoted j.\n",
    "        j = min(i + test_batch_size, num_test)\n",
    "\n",
    "        # Get the images from the test-set between index i and j.\n",
    "        images = data.test.images[i:j, :]\n",
    "\n",
    "        # Get the associated labels.\n",
    "        labels = data.test.labels[i:j, :]\n",
    "\n",
    "        # Create a feed-dict with these images and labels.\n",
    "        feed_dict = {x: images,\n",
    "                     y_true: labels}\n",
    "\n",
    "        # Calculate the predicted class using TensorFlow.\n",
    "        cls_pred[i:j] = session.run(y_pred_cls, feed_dict=feed_dict)\n",
    "\n",
    "        # Set the start-index for the next batch to the\n",
    "        # end-index of the current batch.\n",
    "        i = j\n",
    "\n",
    "    # Convenience variable for the true class-numbers of the test-set.\n",
    "    cls_true = data.test.cls\n",
    "\n",
    "    # Create a boolean array whether each image is correctly classified.\n",
    "    correct = (cls_true == cls_pred)\n",
    "\n",
    "    # Calculate the number of correctly classified images.\n",
    "    # When summing a boolean array, False means 0 and True means 1.\n",
    "    correct_sum = correct.sum()\n",
    "\n",
    "    # Classification accuracy is the number of correctly classified\n",
    "    # images divided by the total number of images in the test-set.\n",
    "    acc = float(correct_sum) / num_test\n",
    "\n",
    "    # Print the accuracy.\n",
    "    msg = \"Accuracy on Test-Set: {0:.1%} ({1} / {2})\"\n",
    "    print(msg.format(acc, correct_sum, num_test))\n",
    "\n",
    "    # Plot some examples of mis-classifications, if desired.\n",
    "    if show_example_errors:\n",
    "        print(\"Example errors:\")\n",
    "        plot_example_errors(cls_pred=cls_pred, correct=correct)\n",
    "\n",
    "    # Plot the confusion matrix, if desired.\n",
    "    if show_confusion_matrix:\n",
    "        print(\"Confusion Matrix:\")\n",
    "        plot_confusion_matrix(cls_pred=cls_pred)"
   ]
  },
  {
   "cell_type": "markdown",
   "metadata": {},
   "source": [
    "## Performance before any optimization\n",
    "\n",
    "The accuracy on the test-set is very low because the model variables have only been initialized and not optimized at all, so it just classifies the images randomly."
   ]
  },
  {
   "cell_type": "code",
   "execution_count": 44,
   "metadata": {},
   "outputs": [
    {
     "name": "stdout",
     "output_type": "stream",
     "text": [
      "Accuracy on Test-Set: 10.2% (1023 / 10000)\n"
     ]
    }
   ],
   "source": [
    "print_test_accuracy()"
   ]
  },
  {
   "cell_type": "markdown",
   "metadata": {},
   "source": [
    "## Performance after 1 optimization iteration\n",
    "\n",
    "The classification accuracy does not improve much from just 1 optimization iteration, because the learning-rate for the optimizer is set very low."
   ]
  },
  {
   "cell_type": "code",
   "execution_count": 45,
   "metadata": {},
   "outputs": [
    {
     "name": "stdout",
     "output_type": "stream",
     "text": [
      "Optimization Iteration:      1, Training Accuracy:  14.1%\n",
      "Time usage: 0:00:01\n"
     ]
    }
   ],
   "source": [
    "optimize(num_iterations=1)"
   ]
  },
  {
   "cell_type": "code",
   "execution_count": 46,
   "metadata": {
    "scrolled": true
   },
   "outputs": [
    {
     "name": "stdout",
     "output_type": "stream",
     "text": [
      "Accuracy on Test-Set: 10.3% (1026 / 10000)\n"
     ]
    }
   ],
   "source": [
    "print_test_accuracy()"
   ]
  },
  {
   "cell_type": "markdown",
   "metadata": {},
   "source": [
    "## Performance after 100 optimization iterations\n",
    "\n",
    "After 100 optimization iterations, the model has significantly improved its classification accuracy."
   ]
  },
  {
   "cell_type": "code",
   "execution_count": 47,
   "metadata": {
    "scrolled": true
   },
   "outputs": [
    {
     "name": "stdout",
     "output_type": "stream",
     "text": [
      "Time usage: 0:00:14\n"
     ]
    }
   ],
   "source": [
    "optimize(num_iterations=99) # We already performed 1 iteration above."
   ]
  },
  {
   "cell_type": "code",
   "execution_count": 48,
   "metadata": {},
   "outputs": [
    {
     "name": "stdout",
     "output_type": "stream",
     "text": [
      "Accuracy on Test-Set: 62.5% (6246 / 10000)\n",
      "Example errors:\n"
     ]
    },
    {
     "data": {
      "image/png": "iVBORw0KGgoAAAANSUhEUgAAAU0AAAD5CAYAAACj3GcTAAAABHNCSVQICAgIfAhkiAAAAAlwSFlz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\n",
      "text/plain": [
       "<matplotlib.figure.Figure at 0x24b869bf240>"
      ]
     },
     "metadata": {},
     "output_type": "display_data"
    }
   ],
   "source": [
    "print_test_accuracy(show_example_errors=True)"
   ]
  },
  {
   "cell_type": "markdown",
   "metadata": {},
   "source": [
    "## Performance after 1000 optimization iterations\n",
    "\n",
    "After 1000 optimization iterations, the model has greatly increased its accuracy on the test-set to more than 90%."
   ]
  },
  {
   "cell_type": "code",
   "execution_count": 49,
   "metadata": {
    "scrolled": false
   },
   "outputs": [
    {
     "name": "stdout",
     "output_type": "stream",
     "text": [
      "Optimization Iteration:    101, Training Accuracy:  62.5%\n",
      "Optimization Iteration:    201, Training Accuracy:  75.0%\n",
      "Optimization Iteration:    301, Training Accuracy:  82.8%\n",
      "Optimization Iteration:    401, Training Accuracy:  81.2%\n",
      "Optimization Iteration:    501, Training Accuracy:  87.5%\n",
      "Optimization Iteration:    601, Training Accuracy:  90.6%\n",
      "Optimization Iteration:    701, Training Accuracy:  90.6%\n",
      "Optimization Iteration:    801, Training Accuracy:  92.2%\n",
      "Optimization Iteration:    901, Training Accuracy:  90.6%\n",
      "Time usage: 0:02:00\n"
     ]
    }
   ],
   "source": [
    "optimize(num_iterations=900) # We performed 100 iterations above."
   ]
  },
  {
   "cell_type": "code",
   "execution_count": 50,
   "metadata": {
    "scrolled": true
   },
   "outputs": [
    {
     "name": "stdout",
     "output_type": "stream",
     "text": [
      "Accuracy on Test-Set: 94.0% (9396 / 10000)\n",
      "Example errors:\n"
     ]
    },
    {
     "data": {
      "image/png": "iVBORw0KGgoAAAANSUhEUgAAAU0AAAD5CAYAAACj3GcTAAAABHNCSVQICAgIfAhkiAAAAAlwSFlz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\nAAAAAElFTkSuQmCC\n",
      "text/plain": [
       "<matplotlib.figure.Figure at 0x24b89033f60>"
      ]
     },
     "metadata": {},
     "output_type": "display_data"
    }
   ],
   "source": [
    "print_test_accuracy(show_example_errors=True)"
   ]
  },
  {
   "cell_type": "markdown",
   "metadata": {},
   "source": [
    "## Performance after 10,000 optimization iterations\n",
    "\n",
    "After 10,000 optimization iterations, the model has a classification accuracy on the test-set of about 99%."
   ]
  },
  {
   "cell_type": "code",
   "execution_count": 51,
   "metadata": {
    "scrolled": true
   },
   "outputs": [
    {
     "name": "stdout",
     "output_type": "stream",
     "text": [
      "Optimization Iteration:   1001, Training Accuracy:  95.3%\n",
      "Optimization Iteration:   1101, Training Accuracy:  90.6%\n",
      "Optimization Iteration:   1201, Training Accuracy:  98.4%\n",
      "Optimization Iteration:   1301, Training Accuracy:  96.9%\n",
      "Optimization Iteration:   1401, Training Accuracy:  96.9%\n",
      "Optimization Iteration:   1501, Training Accuracy:  95.3%\n",
      "Optimization Iteration:   1601, Training Accuracy: 100.0%\n",
      "Optimization Iteration:   1701, Training Accuracy:  95.3%\n",
      "Optimization Iteration:   1801, Training Accuracy:  96.9%\n",
      "Optimization Iteration:   1901, Training Accuracy:  98.4%\n",
      "Optimization Iteration:   2001, Training Accuracy:  96.9%\n",
      "Optimization Iteration:   2101, Training Accuracy:  93.8%\n",
      "Optimization Iteration:   2201, Training Accuracy:  93.8%\n",
      "Optimization Iteration:   2301, Training Accuracy:  95.3%\n",
      "Optimization Iteration:   2401, Training Accuracy:  96.9%\n",
      "Optimization Iteration:   2501, Training Accuracy:  95.3%\n",
      "Optimization Iteration:   2601, Training Accuracy:  95.3%\n",
      "Optimization Iteration:   2701, Training Accuracy:  96.9%\n",
      "Optimization Iteration:   2801, Training Accuracy:  96.9%\n",
      "Optimization Iteration:   2901, Training Accuracy:  98.4%\n",
      "Optimization Iteration:   3001, Training Accuracy:  98.4%\n",
      "Optimization Iteration:   3101, Training Accuracy:  96.9%\n",
      "Optimization Iteration:   3201, Training Accuracy:  96.9%\n",
      "Optimization Iteration:   3301, Training Accuracy:  98.4%\n",
      "Optimization Iteration:   3401, Training Accuracy: 100.0%\n",
      "Optimization Iteration:   3501, Training Accuracy:  98.4%\n",
      "Optimization Iteration:   3601, Training Accuracy: 100.0%\n",
      "Optimization Iteration:   3701, Training Accuracy: 100.0%\n",
      "Optimization Iteration:   3801, Training Accuracy:  96.9%\n",
      "Optimization Iteration:   3901, Training Accuracy:  98.4%\n",
      "Optimization Iteration:   4001, Training Accuracy:  98.4%\n",
      "Optimization Iteration:   4101, Training Accuracy: 100.0%\n",
      "Optimization Iteration:   4201, Training Accuracy:  96.9%\n",
      "Optimization Iteration:   4301, Training Accuracy:  98.4%\n",
      "Optimization Iteration:   4401, Training Accuracy:  96.9%\n",
      "Optimization Iteration:   4501, Training Accuracy:  95.3%\n",
      "Optimization Iteration:   4601, Training Accuracy:  98.4%\n",
      "Optimization Iteration:   4701, Training Accuracy:  98.4%\n",
      "Optimization Iteration:   4801, Training Accuracy:  93.8%\n",
      "Optimization Iteration:   4901, Training Accuracy: 100.0%\n",
      "Optimization Iteration:   5001, Training Accuracy: 100.0%\n",
      "Optimization Iteration:   5101, Training Accuracy:  98.4%\n",
      "Optimization Iteration:   5201, Training Accuracy:  98.4%\n",
      "Optimization Iteration:   5301, Training Accuracy: 100.0%\n",
      "Optimization Iteration:   5401, Training Accuracy: 100.0%\n",
      "Optimization Iteration:   5501, Training Accuracy:  98.4%\n",
      "Optimization Iteration:   5601, Training Accuracy:  95.3%\n",
      "Optimization Iteration:   5701, Training Accuracy: 100.0%\n",
      "Optimization Iteration:   5801, Training Accuracy:  98.4%\n",
      "Optimization Iteration:   5901, Training Accuracy: 100.0%\n",
      "Optimization Iteration:   6001, Training Accuracy: 100.0%\n",
      "Optimization Iteration:   6101, Training Accuracy: 100.0%\n",
      "Optimization Iteration:   6201, Training Accuracy:  98.4%\n",
      "Optimization Iteration:   6301, Training Accuracy:  98.4%\n",
      "Optimization Iteration:   6401, Training Accuracy: 100.0%\n",
      "Optimization Iteration:   6501, Training Accuracy: 100.0%\n",
      "Optimization Iteration:   6601, Training Accuracy: 100.0%\n",
      "Optimization Iteration:   6701, Training Accuracy: 100.0%\n",
      "Optimization Iteration:   6801, Training Accuracy:  98.4%\n",
      "Optimization Iteration:   6901, Training Accuracy: 100.0%\n",
      "Optimization Iteration:   7001, Training Accuracy:  96.9%\n",
      "Optimization Iteration:   7101, Training Accuracy:  96.9%\n",
      "Optimization Iteration:   7201, Training Accuracy:  98.4%\n",
      "Optimization Iteration:   7301, Training Accuracy:  98.4%\n",
      "Optimization Iteration:   7401, Training Accuracy:  96.9%\n",
      "Optimization Iteration:   7501, Training Accuracy:  96.9%\n",
      "Optimization Iteration:   7601, Training Accuracy: 100.0%\n",
      "Optimization Iteration:   7701, Training Accuracy:  96.9%\n",
      "Optimization Iteration:   7801, Training Accuracy:  98.4%\n",
      "Optimization Iteration:   7901, Training Accuracy:  95.3%\n",
      "Optimization Iteration:   8001, Training Accuracy:  98.4%\n",
      "Optimization Iteration:   8101, Training Accuracy: 100.0%\n",
      "Optimization Iteration:   8201, Training Accuracy:  96.9%\n",
      "Optimization Iteration:   8301, Training Accuracy: 100.0%\n",
      "Optimization Iteration:   8401, Training Accuracy:  96.9%\n",
      "Optimization Iteration:   8501, Training Accuracy:  98.4%\n",
      "Optimization Iteration:   8601, Training Accuracy: 100.0%\n",
      "Optimization Iteration:   8701, Training Accuracy:  98.4%\n",
      "Optimization Iteration:   8801, Training Accuracy: 100.0%\n",
      "Optimization Iteration:   8901, Training Accuracy:  96.9%\n",
      "Optimization Iteration:   9001, Training Accuracy: 100.0%\n",
      "Optimization Iteration:   9101, Training Accuracy:  98.4%\n",
      "Optimization Iteration:   9201, Training Accuracy:  98.4%\n",
      "Optimization Iteration:   9301, Training Accuracy: 100.0%\n",
      "Optimization Iteration:   9401, Training Accuracy: 100.0%\n",
      "Optimization Iteration:   9501, Training Accuracy:  98.4%\n",
      "Optimization Iteration:   9601, Training Accuracy:  98.4%\n",
      "Optimization Iteration:   9701, Training Accuracy:  96.9%\n",
      "Optimization Iteration:   9801, Training Accuracy:  96.9%\n",
      "Optimization Iteration:   9901, Training Accuracy: 100.0%\n",
      "Time usage: 0:17:07\n"
     ]
    }
   ],
   "source": [
    "optimize(num_iterations=9000) # We performed 1000 iterations above."
   ]
  },
  {
   "cell_type": "code",
   "execution_count": 52,
   "metadata": {
    "scrolled": true
   },
   "outputs": [
    {
     "name": "stdout",
     "output_type": "stream",
     "text": [
      "Accuracy on Test-Set: 98.7% (9868 / 10000)\n",
      "Example errors:\n"
     ]
    },
    {
     "data": {
      "image/png": "iVBORw0KGgoAAAANSUhEUgAAAU0AAAD5CAYAAACj3GcTAAAABHNCSVQICAgIfAhkiAAAAAlwSFlz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\n+P/jG72qmspC2QAAAABJRU5ErkJggg==\n",
      "text/plain": [
       "<matplotlib.figure.Figure at 0x24b82f79fd0>"
      ]
     },
     "metadata": {},
     "output_type": "display_data"
    },
    {
     "name": "stdout",
     "output_type": "stream",
     "text": [
      "Confusion Matrix:\n",
      "[[ 971    0    0    0    0    0    2    1    4    2]\n",
      " [   0 1130    1    0    0    0    1    0    3    0]\n",
      " [   2    3 1006    6    1    0    0    4   10    0]\n",
      " [   0    0    1 1003    0    2    0    1    2    1]\n",
      " [   0    0    0    0  965    0    1    1    2   13]\n",
      " [   1    1    0    6    0  878    1    1    2    2]\n",
      " [   3    3    0    1    1    5  943    0    2    0]\n",
      " [   0    3    4    2    0    0    0 1018    1    0]\n",
      " [   0    0    1    2    0    1    0    3  965    2]\n",
      " [   0    6    0    1    2    3    0    7    1  989]]\n"
     ]
    },
    {
     "data": {
      "image/png": "iVBORw0KGgoAAAANSUhEUgAAARIAAAD3CAYAAADRydumAAAABHNCSVQICAgIfAhkiAAAAAlwSFlz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\niMYSSCKisf8PVNP+x7gLkqMAAAAASUVORK5CYII=\n",
      "text/plain": [
       "<matplotlib.figure.Figure at 0x24b86856400>"
      ]
     },
     "metadata": {},
     "output_type": "display_data"
    }
   ],
   "source": [
    "print_test_accuracy(show_example_errors=True,\n",
    "                    show_confusion_matrix=True)"
   ]
  },
  {
   "cell_type": "markdown",
   "metadata": {},
   "source": [
    "## Visualization of Weights and Layers\n",
    "\n",
    "In trying to understand why the convolutional neural network can recognize handwritten digits, we will now visualize the weights of the convolutional filters and the resulting output images."
   ]
  },
  {
   "cell_type": "markdown",
   "metadata": {},
   "source": [
    "### Helper-function for plotting convolutional weights"
   ]
  },
  {
   "cell_type": "code",
   "execution_count": 53,
   "metadata": {
    "collapsed": true
   },
   "outputs": [],
   "source": [
    "def plot_conv_weights(weights, input_channel=0):\n",
    "    # Assume weights are TensorFlow ops for 4-dim variables\n",
    "    # e.g. weights_conv1 or weights_conv2.\n",
    "    \n",
    "    # Retrieve the values of the weight-variables from TensorFlow.\n",
    "    # A feed-dict is not necessary because nothing is calculated.\n",
    "    w = session.run(weights)\n",
    "\n",
    "    # Get the lowest and highest values for the weights.\n",
    "    # This is used to correct the colour intensity across\n",
    "    # the images so they can be compared with each other.\n",
    "    w_min = np.min(w)\n",
    "    w_max = np.max(w)\n",
    "\n",
    "    # Number of filters used in the conv. layer.\n",
    "    num_filters = w.shape[3]\n",
    "\n",
    "    # Number of grids to plot.\n",
    "    # Rounded-up, square-root of the number of filters.\n",
    "    num_grids = math.ceil(math.sqrt(num_filters))\n",
    "    \n",
    "    # Create figure with a grid of sub-plots.\n",
    "    fig, axes = plt.subplots(num_grids, num_grids)\n",
    "\n",
    "    # Plot all the filter-weights.\n",
    "    for i, ax in enumerate(axes.flat):\n",
    "        # Only plot the valid filter-weights.\n",
    "        if i<num_filters:\n",
    "            # Get the weights for the i'th filter of the input channel.\n",
    "            # See new_conv_layer() for details on the format\n",
    "            # of this 4-dim tensor.\n",
    "            img = w[:, :, input_channel, i]\n",
    "\n",
    "            # Plot image.\n",
    "            ax.imshow(img, vmin=w_min, vmax=w_max,\n",
    "                      interpolation='nearest', cmap='seismic')\n",
    "        \n",
    "        # Remove ticks from the plot.\n",
    "        ax.set_xticks([])\n",
    "        ax.set_yticks([])\n",
    "    \n",
    "    # Ensure the plot is shown correctly with multiple plots\n",
    "    # in a single Notebook cell.\n",
    "    plt.show()"
   ]
  },
  {
   "cell_type": "markdown",
   "metadata": {},
   "source": [
    "### Helper-function for plotting the output of a convolutional layer"
   ]
  },
  {
   "cell_type": "code",
   "execution_count": 54,
   "metadata": {
    "collapsed": true
   },
   "outputs": [],
   "source": [
    "def plot_conv_layer(layer, image):\n",
    "    # Assume layer is a TensorFlow op that outputs a 4-dim tensor\n",
    "    # which is the output of a convolutional layer,\n",
    "    # e.g. layer_conv1 or layer_conv2.\n",
    "\n",
    "    # Create a feed-dict containing just one image.\n",
    "    # Note that we don't need to feed y_true because it is\n",
    "    # not used in this calculation.\n",
    "    feed_dict = {x: [image]}\n",
    "\n",
    "    # Calculate and retrieve the output values of the layer\n",
    "    # when inputting that image.\n",
    "    values = session.run(layer, feed_dict=feed_dict)\n",
    "\n",
    "    # Number of filters used in the conv. layer.\n",
    "    num_filters = values.shape[3]\n",
    "\n",
    "    # Number of grids to plot.\n",
    "    # Rounded-up, square-root of the number of filters.\n",
    "    num_grids = math.ceil(math.sqrt(num_filters))\n",
    "    \n",
    "    # Create figure with a grid of sub-plots.\n",
    "    fig, axes = plt.subplots(num_grids, num_grids)\n",
    "\n",
    "    # Plot the output images of all the filters.\n",
    "    for i, ax in enumerate(axes.flat):\n",
    "        # Only plot the images for valid filters.\n",
    "        if i<num_filters:\n",
    "            # Get the output image of using the i'th filter.\n",
    "            # See new_conv_layer() for details on the format\n",
    "            # of this 4-dim tensor.\n",
    "            img = values[0, :, :, i]\n",
    "\n",
    "            # Plot image.\n",
    "            ax.imshow(img, interpolation='nearest', cmap='binary')\n",
    "        \n",
    "        # Remove ticks from the plot.\n",
    "        ax.set_xticks([])\n",
    "        ax.set_yticks([])\n",
    "    \n",
    "    # Ensure the plot is shown correctly with multiple plots\n",
    "    # in a single Notebook cell.\n",
    "    plt.show()"
   ]
  },
  {
   "cell_type": "markdown",
   "metadata": {},
   "source": [
    "### Input Images"
   ]
  },
  {
   "cell_type": "markdown",
   "metadata": {},
   "source": [
    "Helper-function for plotting an image."
   ]
  },
  {
   "cell_type": "code",
   "execution_count": 55,
   "metadata": {
    "collapsed": true
   },
   "outputs": [],
   "source": [
    "def plot_image(image):\n",
    "    plt.imshow(image.reshape(img_shape),\n",
    "               interpolation='nearest',\n",
    "               cmap='binary')\n",
    "\n",
    "    plt.show()"
   ]
  },
  {
   "cell_type": "markdown",
   "metadata": {},
   "source": [
    "Plot an image from the test-set which will be used as an example below."
   ]
  },
  {
   "cell_type": "code",
   "execution_count": 56,
   "metadata": {},
   "outputs": [
    {
     "data": {
      "image/png": "iVBORw0KGgoAAAANSUhEUgAAAP8AAAD8CAYAAAC4nHJkAAAABHNCSVQICAgIfAhkiAAAAAlwSFlz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\nRU5ErkJggg==\n",
      "text/plain": [
       "<matplotlib.figure.Figure at 0x24b8900f2e8>"
      ]
     },
     "metadata": {},
     "output_type": "display_data"
    }
   ],
   "source": [
    "image1 = data.test.images[0]\n",
    "plot_image(image1)"
   ]
  },
  {
   "cell_type": "markdown",
   "metadata": {},
   "source": [
    "Plot another example image from the test-set."
   ]
  },
  {
   "cell_type": "code",
   "execution_count": 57,
   "metadata": {},
   "outputs": [
    {
     "data": {
      "image/png": "iVBORw0KGgoAAAANSUhEUgAAAP8AAAD8CAYAAAC4nHJkAAAABHNCSVQICAgIfAhkiAAAAAlwSFlz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\nQRF+ICjCDwRF+IGgCD8Q1P8DdB0CkDYcK7EAAAAASUVORK5CYII=\n",
      "text/plain": [
       "<matplotlib.figure.Figure at 0x24b868b5588>"
      ]
     },
     "metadata": {},
     "output_type": "display_data"
    }
   ],
   "source": [
    "image2 = data.test.images[13]\n",
    "plot_image(image2)"
   ]
  },
  {
   "cell_type": "markdown",
   "metadata": {},
   "source": [
    "### Convolution Layer 1"
   ]
  },
  {
   "cell_type": "markdown",
   "metadata": {},
   "source": [
    "Now plot the filter-weights for the first convolutional layer.\n",
    "\n",
    "Note that positive weights are red and negative weights are blue."
   ]
  },
  {
   "cell_type": "code",
   "execution_count": 58,
   "metadata": {
    "scrolled": false
   },
   "outputs": [
    {
     "data": {
      "image/png": "iVBORw0KGgoAAAANSUhEUgAAAUoAAADuCAYAAABf005JAAAABHNCSVQICAgIfAhkiAAAAAlwSFlz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\n",
      "text/plain": [
       "<matplotlib.figure.Figure at 0x24b868b5518>"
      ]
     },
     "metadata": {},
     "output_type": "display_data"
    }
   ],
   "source": [
    "plot_conv_weights(weights=weights_conv1)"
   ]
  },
  {
   "cell_type": "markdown",
   "metadata": {},
   "source": [
    "Applying each of these convolutional filters to the first input image gives the following output images, which are then used as input to the second convolutional layer. Note that these images are down-sampled to 14 x 14 pixels which is half the resolution of the original input image."
   ]
  },
  {
   "cell_type": "code",
   "execution_count": 59,
   "metadata": {
    "scrolled": true
   },
   "outputs": [
    {
     "data": {
      "image/png": "iVBORw0KGgoAAAANSUhEUgAAAUoAAADuCAYAAABf005JAAAABHNCSVQICAgIfAhkiAAAAAlwSFlz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\nEiUABJAoASDg/7H1bjeZ9xIxAAAAAElFTkSuQmCC\n",
      "text/plain": [
       "<matplotlib.figure.Figure at 0x24b88976b00>"
      ]
     },
     "metadata": {},
     "output_type": "display_data"
    }
   ],
   "source": [
    "plot_conv_layer(layer=layer_conv1, image=image1)"
   ]
  },
  {
   "cell_type": "markdown",
   "metadata": {},
   "source": [
    "The following images are the results of applying the convolutional filters to the second image."
   ]
  },
  {
   "cell_type": "code",
   "execution_count": 60,
   "metadata": {
    "scrolled": false
   },
   "outputs": [
    {
     "data": {
      "image/png": "iVBORw0KGgoAAAANSUhEUgAAAUoAAADuCAYAAABf005JAAAABHNCSVQICAgIfAhkiAAAAAlwSFlz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\nJSGEBPg/4gH0haGuVVQAAAAASUVORK5CYII=\n",
      "text/plain": [
       "<matplotlib.figure.Figure at 0x24b868b5cf8>"
      ]
     },
     "metadata": {},
     "output_type": "display_data"
    }
   ],
   "source": [
    "plot_conv_layer(layer=layer_conv1, image=image2)"
   ]
  },
  {
   "cell_type": "markdown",
   "metadata": {},
   "source": [
    "It is difficult to see from these images what the purpose of the convolutional filters might be. It appears that they have merely created several variations of the input image, as if light was shining from different angles and casting shadows in the image."
   ]
  },
  {
   "cell_type": "markdown",
   "metadata": {},
   "source": [
    "### Convolution Layer 2"
   ]
  },
  {
   "cell_type": "markdown",
   "metadata": {},
   "source": [
    "Now plot the filter-weights for the second convolutional layer.\n",
    "\n",
    "There are 16 output channels from the first conv-layer, which means there are 16 input channels to the second conv-layer. The second conv-layer has a set of filter-weights for each of its input channels. We start by plotting the filter-weigths for the first channel.\n",
    "\n",
    "Note again that positive weights are red and negative weights are blue."
   ]
  },
  {
   "cell_type": "code",
   "execution_count": 61,
   "metadata": {
    "scrolled": false
   },
   "outputs": [
    {
     "data": {
      "image/png": "iVBORw0KGgoAAAANSUhEUgAAAVMAAADuCAYAAACEaORrAAAABHNCSVQICAgIfAhkiAAAAAlwSFlz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\n",
      "text/plain": [
       "<matplotlib.figure.Figure at 0x24b868c6160>"
      ]
     },
     "metadata": {},
     "output_type": "display_data"
    }
   ],
   "source": [
    "plot_conv_weights(weights=weights_conv2, input_channel=0)"
   ]
  },
  {
   "cell_type": "markdown",
   "metadata": {},
   "source": [
    "There are 16 input channels to the second convolutional layer, so we can make another 15 plots of filter-weights like this. We just make one more with the filter-weights for the second channel. "
   ]
  },
  {
   "cell_type": "code",
   "execution_count": 62,
   "metadata": {},
   "outputs": [
    {
     "data": {
      "image/png": "iVBORw0KGgoAAAANSUhEUgAAAVMAAADuCAYAAACEaORrAAAABHNCSVQICAgIfAhkiAAAAAlwSFlz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\nWypXVtsAAAAASUVORK5CYII=\n",
      "text/plain": [
       "<matplotlib.figure.Figure at 0x24b88153588>"
      ]
     },
     "metadata": {},
     "output_type": "display_data"
    }
   ],
   "source": [
    "plot_conv_weights(weights=weights_conv2, input_channel=1)"
   ]
  },
  {
   "cell_type": "markdown",
   "metadata": {},
   "source": [
    "It can be difficult to understand and keep track of how these filters are applied because of the high dimensionality.\n",
    "\n",
    "Applying these convolutional filters to the images that were ouput from the first conv-layer gives the following images.\n",
    "\n",
    "Note that these are down-sampled yet again to 7 x 7 pixels which is half the resolution of the images from the first conv-layer."
   ]
  },
  {
   "cell_type": "code",
   "execution_count": 63,
   "metadata": {
    "scrolled": false
   },
   "outputs": [
    {
     "data": {
      "image/png": "iVBORw0KGgoAAAANSUhEUgAAAVMAAADuCAYAAACEaORrAAAABHNCSVQICAgIfAhkiAAAAAlwSFlz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\nAI0pIYR4gMaUEEI88D8msxFcBY6AHgAAAABJRU5ErkJggg==\n",
      "text/plain": [
       "<matplotlib.figure.Figure at 0x24b889f8e10>"
      ]
     },
     "metadata": {},
     "output_type": "display_data"
    }
   ],
   "source": [
    "plot_conv_layer(layer=layer_conv2, image=image1)"
   ]
  },
  {
   "cell_type": "markdown",
   "metadata": {},
   "source": [
    "And these are the results of applying the filter-weights to the second image."
   ]
  },
  {
   "cell_type": "code",
   "execution_count": 64,
   "metadata": {
    "scrolled": false
   },
   "outputs": [
    {
     "data": {
      "image/png": "iVBORw0KGgoAAAANSUhEUgAAAVMAAADuCAYAAACEaORrAAAABHNCSVQICAgIfAhkiAAAAAlwSFlz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\nQogH/g/N4PziV+9UwgAAAABJRU5ErkJggg==\n",
      "text/plain": [
       "<matplotlib.figure.Figure at 0x24b8700e240>"
      ]
     },
     "metadata": {},
     "output_type": "display_data"
    }
   ],
   "source": [
    "plot_conv_layer(layer=layer_conv2, image=image2)"
   ]
  },
  {
   "cell_type": "markdown",
   "metadata": {},
   "source": [
    "From these images, it looks like the second convolutional layer might detect lines and patterns in the input images, which are less sensitive to local variations in the original input images.\n",
    "\n",
    "These images are then flattened and input to the fully-connected layer, but that is not shown here."
   ]
  },
  {
   "cell_type": "markdown",
   "metadata": {},
   "source": [
    "### Close TensorFlow Session"
   ]
  },
  {
   "cell_type": "markdown",
   "metadata": {},
   "source": [
    "We are now done using TensorFlow, so we close the session to release its resources."
   ]
  },
  {
   "cell_type": "code",
   "execution_count": 65,
   "metadata": {
    "collapsed": true
   },
   "outputs": [],
   "source": [
    "# This has been commented out in case you want to modify and experiment\n",
    "# with the Notebook without having to restart it.\n",
    "# session.close()"
   ]
  }

}
